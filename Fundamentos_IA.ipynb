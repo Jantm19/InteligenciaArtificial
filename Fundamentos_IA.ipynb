{
  "nbformat": 4,
  "nbformat_minor": 0,
  "metadata": {
    "colab": {
      "provenance": []
    },
    "kernelspec": {
      "name": "python3",
      "display_name": "Python 3"
    },
    "language_info": {
      "name": "python"
    }
  },
  "cells": [
    {
      "cell_type": "markdown",
      "source": [
        "## 1. Fundamentos de la Inteligencia Artificial (IA)"
      ],
      "metadata": {
        "id": "ZMEuCt1BBmc9"
      }
    },
    {
      "cell_type": "markdown",
      "source": [
        "### 1.1 Introducción a la IA"
      ],
      "metadata": {
        "id": "hfQZ2PhWBqX0"
      }
    },
    {
      "cell_type": "markdown",
      "source": [
        "* **Definiciones y conceptos clave:** La IA es la simulación de **procesos de inteligencia humana** por máquinas, especialmente sistemas informáticos.\n",
        "* **IA vs. ML vs. DL:**\n",
        "    * **IA (Inteligencia Artificial):** El campo amplio de crear máquinas inteligentes.\n",
        "    * **ML (Machine Learning):** Un **subconjunto de la IA** donde las máquinas aprenden a partir de datos sin ser programadas explícitamente.\n",
        "    * **DL (Deep Learning):** Un **subconjunto del ML** que utiliza **Redes Neuronales Artificiales** con múltiples capas (profundas) para modelar abstracciones de alto nivel.\n",
        "* **Tipos de IA:**\n",
        "    * **IA Débil (Narrow AI):** Sistemas diseñados y entrenados para una **tarea específica** (ej. Siri, sistemas de recomendación). Es la IA que existe hoy.\n",
        "    * **IA Fuerte (General AI):** Máquinas con la capacidad de comprender, aprender y aplicar su inteligencia para resolver **cualquier problema** (como un humano). Aún no se ha logrado.\n"
      ],
      "metadata": {
        "id": "wL0AoPkJBsPI"
      }
    },
    {
      "cell_type": "markdown",
      "source": [
        "### 1.2 Historia de la IA"
      ],
      "metadata": {
        "id": "4J5JYrZrBuCg"
      }
    },
    {
      "cell_type": "markdown",
      "source": [
        "La historia de la IA es un viaje marcado por grandes ambiciones, periodos de escepticismo y resurgimientos tecnológicos.\n",
        "\n",
        "#### **1. Primeras Ideas y Pioneros (Pre-1956 y el Inicio Formal)**\n",
        "\n",
        "Este periodo sentó las bases teóricas y conceptuales de la IA.\n",
        "\n",
        "* **Alan Turing y la Prueba de Turing (década de 1950):** El matemático británico **Alan Turing** es considerado uno de los padres de la informática moderna. Propuso el famoso **\"Juego de la Imitación\"**, hoy conocido como la **Prueba de Turing** , un experimento de pensamiento diseñado para evaluar la capacidad de una máquina para exhibir un comportamiento inteligente indistinguible del de un humano.\n",
        "* **La Conferencia de Dartmouth (1956):** Este evento de verano en el Dartmouth College, New Hampshire, es universalmente reconocido como el **nacimiento formal del campo de la IA**. Fue allí donde el término **\"Inteligencia Artificial\"** fue acuñado por **John McCarthy** y se establecieron los objetivos iniciales de la disciplina.\n",
        "\n",
        "---\n",
        "\n",
        "#### **2. Los Invierno(s) de la IA (Años 70 y 80)**\n",
        "\n",
        "Los \"Inviernos de la IA\" hacen referencia a periodos de **desilusión** y **escasez de financiación**.\n",
        "\n",
        "* **Causa Principal:** Las **promesas iniciales** de la IA (como la traducción automática perfecta o la resolución general de problemas) no se materializaron debido a las **limitaciones de *hardware*** (poca capacidad de procesamiento y memoria) y la **complejidad inherente de los problemas** que se intentaban resolver.\n",
        "* **Consecuencia:** Se produjo una **reducción drástica de fondos de investigación** por parte de agencias gubernamentales y empresas, lo que ralentizó significativamente el progreso.\n",
        "\n",
        "---\n",
        "\n",
        "#### **3. Renacimientos y Avances Recientes (Desde el 2000 en adelante)**\n",
        "\n",
        "El campo experimentó un resurgimiento dramático, impulsado por una \"tormenta perfecta\" de factores tecnológicos convergentes, lo que llevó a la era del **Aprendizaje Profundo (Deep Learning)**.\n",
        "\n",
        "| Factor Clave | Descripción | Impacto en la IA |\n",
        "| :--- | :--- | :--- |\n",
        "| **Big Data** | La explosión de información digital generada a diario (redes sociales, sensores, web) proporcionó la **materia prima esencial** para entrenar modelos complejos. | Los algoritmos de *Deep Learning* requieren **cantidades masivas de datos** etiquetados para aprender patrones de manera efectiva. |\n",
        "| **Hardware Potente** | El desarrollo de **GPUs** (Unidades de Procesamiento Gráfico)  para el mercado de videojuegos resultó ser un acelerador ideal para las operaciones de cálculo paralelo necesarias en el entrenamiento de redes neuronales. | Redujo el tiempo de entrenamiento de modelos que antes tardaban meses a solo días o semanas, haciendo que la **experimentación a gran escala** fuera viable. |\n",
        "| **Algoritmos de DL** | Innovaciones y mejoras en las arquitecturas de redes neuronales profundas, como: **1.** La popularización del ***backpropagation*** (retropropagación) para un entrenamiento eficiente. **2.** El desarrollo de modelos profundos como las **Redes Convolucionales (CNNs)** y las **Redes Recurrentes (RNNs)** y, más recientemente, los **Transformers**. | Permitió a los modelos **aprender representaciones complejas directamente de datos crudos**, lo que llevó a avances sin precedentes en visión por computadora, procesamiento de lenguaje natural y más. |"
      ],
      "metadata": {
        "id": "4y-cwYXyB6CJ"
      }
    },
    {
      "cell_type": "markdown",
      "source": [
        "### 1.3 Áreas de aplicación de la IA"
      ],
      "metadata": {
        "id": "yVmPrhaZCMhI"
      }
    },
    {
      "cell_type": "markdown",
      "source": [
        "La IA moderna se aplica en prácticamente todos los sectores, dividiéndose en disciplinas clave que resuelven problemas específicos del mundo real."
      ],
      "metadata": {
        "id": "FuQWcFXCCYgp"
      }
    },
    {
      "cell_type": "markdown",
      "source": [
        "#### **1. Visión por Computadora (Computer Vision)**\n",
        "\n",
        "Esta área se enfoca en permitir que las máquinas **\"vean\"** e interpreten el contenido visual (imágenes y videos) del mismo modo que lo haría un humano.\n",
        "\n",
        "* **Fundamento Algorítmico:** Se basa principalmente en las **Redes Neuronales Convolucionales (CNNs)**, que son extremadamente eficaces para reconocer patrones espaciales y jerárquicos.\n",
        "* **Ejemplos de Aplicación:**\n",
        "    * **Reconocimiento y Detección de Objetos:** Identificación de personas, señales de tráfico o mercancía.\n",
        "    * **Automoción Autónoma:** Los **coches autónomos** utilizan visión por computadora para mapear su entorno y tomar decisiones de navegación.\n",
        "    * **Imágenes Médicas:** Detección automática de anomalías (como tumores o lesiones) en radiografías o resonancias.\n"
      ],
      "metadata": {
        "id": "VZK-oSAWCqZZ"
      }
    },
    {
      "cell_type": "markdown",
      "source": [
        "\n",
        "#### **2. Procesamiento de Lenguaje Natural (PLN / NLP)**\n",
        "\n",
        "El PLN se dedica a la interacción entre las computadoras y el **lenguaje humano** (escrito y hablado), permitiendo a las máquinas entender, interpretar y generar texto.\n",
        "\n",
        "* **Aplicaciones Clave:**\n",
        "    * **Modelos de Lenguaje Grande (LLMs):** Modelos como **GPT** (Generative Pre-trained Transformer) y sus variantes son la base para generar texto coherente y responder preguntas.\n",
        "    * **Traducción Automática:** Sistemas que traducen textos y voz entre diferentes idiomas.\n",
        "    * **Chatbots y Asistentes Virtuales:** Permiten una conversación natural y la ejecución de tareas basadas en comandos de voz o texto.\n",
        "    * **Análisis de Sentimiento:** Determinar la emoción o actitud detrás de un texto (ej. opiniones de clientes).\n",
        "\n",
        "---\n"
      ],
      "metadata": {
        "id": "nLi4-hadEBBJ"
      }
    },
    {
      "cell_type": "markdown",
      "source": [
        "\n",
        "#### **3. Otras Áreas Transversales**\n",
        "\n",
        "La IA también impulsa una variedad de otras aplicaciones críticas en diferentes sectores:\n",
        "\n",
        "| Sector / Disciplina | Enfoque de la IA | Ejemplos de Uso |\n",
        "| :--- | :--- | :--- |\n",
        "| **Robótica**  | Dotar a los robots de percepción, toma de decisiones y control para actuar sin intervención humana. | **Navegación autónoma** de almacenes, **manipulación** precisa de objetos, robots de servicio. |\n",
        "| **Salud**  | Optimización de procesos y mejora de la precisión diagnóstica. | **Diagnóstico asistido** por IA en imágenes médicas, **descubrimiento de fármacos** mediante simulación molecular, monitorización de pacientes. |\n",
        "| **Finanzas**  | Gestión de riesgos, automatización y seguridad. | **Detección de fraude** en transacciones, **trading algorítmico** (ejecución automática de operaciones), *scoring* crediticio. |\n",
        "| **Sistemas de Recomendación**  | Predecir las preferencias de un usuario para sugerir productos o contenido. | El motor que sugiere qué ver a continuación en **Netflix**, o qué comprar en **Amazon**. |"
      ],
      "metadata": {
        "id": "QKN_n64fEDko"
      }
    },
    {
      "cell_type": "markdown",
      "source": [
        "\n",
        "### 3. Probabilidad y Estadística"
      ],
      "metadata": {
        "id": "DtpMJqgGD4kw"
      }
    },
    {
      "cell_type": "markdown",
      "source": [
        "La Inteligencia Artificial, particularmente el *Machine Learning* y el *Deep Learning*, se construye completamente sobre una base sólida de conceptos matemáticos. Son el lenguaje con el que se diseñan, entrenan y evalúan los algoritmos.\n"
      ],
      "metadata": {
        "id": "MyEXSBavEVSU"
      }
    },
    {
      "cell_type": "markdown",
      "source": [
        "### 1. Álgebra Lineal"
      ],
      "metadata": {
        "id": "Fh6lQ3HhEZB7"
      }
    },
    {
      "cell_type": "markdown",
      "source": [
        "El Álgebra Lineal proporciona las herramientas para manipular y operar con los **datos** que se introducen en los modelos de IA. Es la forma en que las computadoras representan la información.\n",
        "\n",
        "* **Vectores:** Son listas ordenadas de números. Representan **características o *features*** de los datos. Por ejemplo, las dimensiones de una casa se pueden representar como un vector.\n",
        "* **Matrices:** Son arreglos rectangulares de números. Representan colecciones de datos, donde cada fila podría ser una **muestra de entrenamiento** y cada columna una **característica** (similar a una hoja de cálculo).\n",
        "* **Tensores:** Son la generalización de vectores (1D) y matrices (2D) a cualquier número de dimensiones (3D, 4D, etc.). Son fundamentales en el **Deep Learning** para manejar grandes conjuntos de datos, especialmente imágenes (que son tensores 3D) y videos."
      ],
      "metadata": {
        "id": "aZYr61vDEato"
      }
    },
    {
      "cell_type": "markdown",
      "source": [
        "### 2. Cálculo Diferencial e Integral"
      ],
      "metadata": {
        "id": "sVHveiNXEhUN"
      }
    },
    {
      "cell_type": "markdown",
      "source": [
        "El Cálculo es crucial para el **entrenamiento** de modelos de *Machine Learning*, ya que permite a los algoritmos aprender y ajustarse a partir de los datos.\n",
        "\n",
        "* **Derivadas y Gradientes:** En el aprendizaje automático, tenemos una **función de coste (o pérdida)** que mide qué tan mal está prediciendo el modelo. El objetivo es **minimizar** este coste.\n",
        "    * La **derivada** indica la tasa de cambio de la función en un punto dado.\n",
        "    * El **gradiente** es un vector de derivadas parciales que indica la dirección de **máximo crecimiento** de la función de coste.\n",
        "* **Descenso del Gradiente (*Gradient Descent*):** Este es el algoritmo de optimización central. El modelo usa el gradiente para saber **en qué dirección** y **cuánto** deben ajustarse sus **parámetros** (pesos y sesgos) para reducir la función de coste, moviéndose \"cuesta abajo\" hasta encontrar el mínimo."
      ],
      "metadata": {
        "id": "dhnDeREDEiAQ"
      }
    },
    {
      "cell_type": "markdown",
      "source": [
        "### 3. Probabilidad y Estadística"
      ],
      "metadata": {
        "id": "86QT8zToElUs"
      }
    },
    {
      "cell_type": "markdown",
      "source": [
        "Estas ramas proporcionan los marcos teóricos para el **modelado de incertidumbre**, la **toma de decisiones** y la **inferencia** a partir de datos limitados.\n",
        "\n",
        "* **Distribuciones de Probabilidad:** Ayudan a modelar la forma en que se distribuyen los datos (por ejemplo, la distribución Normal).\n",
        "* **Inferencia Estadística:** Permite a los modelos hacer predicciones sobre una población basándose en una muestra de datos.\n",
        "* **Modelos Probabilísticos:** Muchos algoritmos de IA se basan en la probabilidad, utilizando reglas probabilísticas para hacer predicciones.\n",
        "* **Evaluación de Modelos:** La estadística es esencial para **evaluar** si un modelo está funcionando correctamente (por ejemplo, métricas como la precisión o el *recall*)."
      ],
      "metadata": {
        "id": "SgW1QfN-EoCP"
      }
    },
    {
      "cell_type": "markdown",
      "source": [
        "### 4. Optimización Numérica"
      ],
      "metadata": {
        "id": "7na6okwUEqPX"
      }
    },
    {
      "cell_type": "markdown",
      "source": [
        "La Optimización Numérica agrupa las técnicas usadas para encontrar los **mejores parámetros posibles** para un modelo, minimizando el error o coste.\n",
        "\n",
        "* **Función Objetivo (o de Coste/Pérdida):** La meta de todo el proceso de entrenamiento es minimizar esta función.\n",
        "* **Algoritmos de Optimización:** Además del Descenso del Gradiente estándar, existen variantes más sofisticadas que mejoran la velocidad y eficiencia, tales como **Adam** o **RMSprop**, que ajustan cómo se mueven los parámetros."
      ],
      "metadata": {
        "id": "CsCRXHqTErxw"
      }
    }
  ]
}