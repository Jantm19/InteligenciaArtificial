{
  "nbformat": 4,
  "nbformat_minor": 0,
  "metadata": {
    "colab": {
      "provenance": []
    },
    "kernelspec": {
      "name": "python3",
      "display_name": "Python 3"
    },
    "language_info": {
      "name": "python"
    }
  },
  "cells": [
    {
      "cell_type": "markdown",
      "source": [
        "## 2. Aprendizaje Automático (Machine Learning - ML)"
      ],
      "metadata": {
        "id": "VfTZYK0pJGoz"
      }
    },
    {
      "cell_type": "markdown",
      "source": [
        "## 2.1 Conceptos Fundamentales"
      ],
      "metadata": {
        "id": "RgKnQ-fzJMhU"
      }
    },
    {
      "cell_type": "markdown",
      "source": [
        "#### Definición de Machine Learning (ML)"
      ],
      "metadata": {
        "id": "bNet2SfvJe6U"
      }
    },
    {
      "cell_type": "markdown",
      "source": [
        "\n",
        "El **Aprendizaje Automático (Machine Learning)** es una rama de la inteligencia artificial que se enfoca en la creación de sistemas que pueden **aprender de los datos**, identificar patrones y tomar decisiones o hacer predicciones con una mínima intervención humana.\n",
        "\n",
        "> **Analogía:** Es como enseñar a un niño. En lugar de darle reglas explícitas (\"Si es rojo, detente\"), le muestras muchos ejemplos de tráfico y lo dejas aprender qué acciones son correctas o incorrectas."
      ],
      "metadata": {
        "id": "O4DvZDnGJRNw"
      }
    },
    {
      "cell_type": "markdown",
      "source": [
        "#### Ciclo de Vida de un Proyecto de ML"
      ],
      "metadata": {
        "id": "QEH2URg5JcZb"
      }
    },
    {
      "cell_type": "markdown",
      "source": [
        "\n",
        "Un proyecto de ML sigue generalmente las siguientes etapas:\n",
        "\n",
        "1.  **Definición del Problema y Recolección de Datos:**\n",
        "    * Entender el objetivo (¿clasificación, regresión, clustering?) y los requisitos.\n",
        "    * Recolectar los datos necesarios (pueden ser estructurados o no estructurados).\n",
        "2.  **Preparación de Datos (Data Preprocessing):**\n",
        "    * Limpieza, manejo de valores faltantes y *outliers*.\n",
        "    * Transformación, normalización/estandarización y codificación de variables.\n",
        "    * División en conjuntos de entrenamiento, validación y prueba.\n",
        "3.  **Selección y Entrenamiento del Modelo:**\n",
        "    * Elegir un algoritmo adecuado (Regresión Logística, k-NN, etc.).\n",
        "    * **Ajustar (entrenar)** el modelo utilizando el **conjunto de entrenamiento**.\n",
        "4.  **Evaluación del Modelo:**\n",
        "    * Utilizar el **conjunto de validación** (o prueba) y **métricas de evaluación** (precisión, MSE, etc.) para medir el rendimiento.\n",
        "5.  **Ajuste y Optimización (Hyperparameter Tuning):**\n",
        "    * Modificar los **hiperparámetros** (parámetros que no se aprenden de los datos) para mejorar la precisión.\n",
        "6.  **Despliegue (Deployment) y Monitoreo:**\n",
        "    * Integrar el modelo en un entorno de producción para que haga predicciones en tiempo real.\n",
        "    * Monitorizar su rendimiento para detectar el **desfase de datos (data drift)**.\n"
      ],
      "metadata": {
        "id": "1XBpMCoXJZyL"
      }
    },
    {
      "cell_type": "markdown",
      "source": [
        "### Conjuntos de Datos: Entrenamiento, Validación y Prueba"
      ],
      "metadata": {
        "id": "V_ACgBOxJi7r"
      }
    },
    {
      "cell_type": "markdown",
      "source": [
        "Para asegurar que un modelo generalice bien a datos no vistos (evitando el **sobreajuste** o *overfitting*), los datos se dividen en tres subconjuntos principales:\n",
        "\n",
        "| Conjunto | Uso Principal | Propósito Clave |\n",
        "| :--- | :--- | :--- |\n",
        "| **Entrenamiento (Training Set)** | **Entrenar** el modelo, ajustando sus parámetros internos. | El modelo **aprende** de estos datos. |\n",
        "| **Validación (Validation Set)** | **Evaluar** el modelo *durante* el entrenamiento y **ajustar hiperparámetros**. | Ayuda a **seleccionar** el mejor modelo/hiperparámetros antes de la prueba final. |\n",
        "| **Prueba (Test Set)** | **Evaluación final** del modelo *después* de que ha sido completamente entrenado y ajustado. | Proporciona una estimación **imparcial** del rendimiento en el mundo real. |\n"
      ],
      "metadata": {
        "id": "JXgXhezjJjlY"
      }
    },
    {
      "cell_type": "markdown",
      "source": [
        "## 2.2 Tipos de Aprendizaje"
      ],
      "metadata": {
        "id": "utHpber2JpGv"
      }
    },
    {
      "cell_type": "markdown",
      "source": [
        "El ML se clasifica comúnmente en tres paradigmas:\n"
      ],
      "metadata": {
        "id": "qAt1ndslJqnQ"
      }
    },
    {
      "cell_type": "markdown",
      "source": [
        "### Supervisado (Supervised Learning)"
      ],
      "metadata": {
        "id": "q8of2yx2JwBk"
      }
    },
    {
      "cell_type": "markdown",
      "source": [
        "\n",
        "* **Definición:** El modelo se entrena con un conjunto de datos que incluye **etiquetas** (valores de salida) previamente conocidas.\n",
        "* **Objetivo:** Aprender una función que mapee la entrada a la salida."
      ],
      "metadata": {
        "id": "9oaK0oDxJtjx"
      }
    },
    {
      "cell_type": "markdown",
      "source": [
        "#### 1. Regresión (Regression)\n",
        "* **Problema:** Predecir un **valor continuo** (número real).\n",
        "* **Ejemplo:** Predecir el **precio** de una casa, la **temperatura** de mañana.\n",
        "\n",
        "#### 2. Clasificación (Classification)\n",
        "* **Problema:** Predecir una **etiqueta discreta** o una categoría.\n",
        "* **Ejemplos:**\n",
        "    * **Clasificación Binaria:** Sí/No, Spam/No Spam.\n",
        "    * **Clasificación Multi-clase:** Gato/Perro/Pájaro."
      ],
      "metadata": {
        "id": "Fo2hPiPFJxfD"
      }
    },
    {
      "cell_type": "markdown",
      "source": [
        "### No Supervisado (Unsupervised Learning)"
      ],
      "metadata": {
        "id": "6DNKBvM9J5Xz"
      }
    },
    {
      "cell_type": "markdown",
      "source": [
        "* **Definición:** El modelo se entrena con datos **sin etiquetas**.\n",
        "* **Objetivo:** Descubrir estructuras, patrones o relaciones ocultas en los datos."
      ],
      "metadata": {
        "id": "f0rXdiYiKF-f"
      }
    },
    {
      "cell_type": "markdown",
      "source": [
        "#### 1. Clustering\n",
        "* **Problema:** Agrupar puntos de datos similares para formar **grupos (clusters)**.\n",
        "* **Ejemplo:** Segmentación de clientes en función de sus hábitos de compra.\n",
        "\n",
        "#### 2. Reducción de Dimensionalidad\n",
        "* **Problema:** Reducir el número de características (variables) manteniendo la mayor parte de la información relevante.\n",
        "* **Ejemplo:** Simplificar un dataset con cientos de variables para facilitar la visualización o acelerar el entrenamiento del modelo. **Análisis de Componentes Principales (PCA)**.\n"
      ],
      "metadata": {
        "id": "-m0OhH1oKIHb"
      }
    },
    {
      "cell_type": "markdown",
      "source": [
        "\n",
        "### Aprendizaje por Refuerzo (Reinforcement Learning - RL)"
      ],
      "metadata": {
        "id": "GrTIvcPLKKPv"
      }
    },
    {
      "cell_type": "markdown",
      "source": [
        "* **Definición:** El agente de *software* aprende a tomar decisiones secuenciales en un **entorno** para maximizar una **recompensa**. No hay un conjunto de datos de entrenamiento fijo.\n",
        "* **Conceptos Clave:**\n",
        "    * **Agente:** El modelo que toma las decisiones.\n",
        "    * **Entorno:** El *mundo* en el que opera el agente.\n",
        "    * **Recompensa:** La señal que indica qué tan buena fue la última acción.\n",
        "* **Ejemplo:** Enseñar a un robot a caminar, entrenamiento de IA para jugar videojuegos (AlphaGo).\n"
      ],
      "metadata": {
        "id": "YH0wBLPLKL_T"
      }
    },
    {
      "cell_type": "markdown",
      "source": [
        "## 2.3 Preparación de Datos (Data Preprocessing)\n"
      ],
      "metadata": {
        "id": "0WuUGRAEKNpD"
      }
    },
    {
      "cell_type": "markdown",
      "source": [
        "Esta es la etapa más crucial y consume la mayor parte del tiempo de un científico de datos (a menudo, 70-80% del tiempo).\n"
      ],
      "metadata": {
        "id": "2aEhtV9GKQDL"
      }
    },
    {
      "cell_type": "markdown",
      "source": [
        "### Limpieza de Datos y Manejo de Valores Faltantes\n",
        "\n",
        "* **Identificación:** Buscar valores nulos (`NaN`, `None`), inconsistencias (ej. \"NY\" y \"Nueva York\"), y *outliers* (valores atípicos).\n",
        "* **Manejo de Valores Faltantes:**\n",
        "    * **Eliminación:** Eliminar la fila o columna (solo si faltan pocos datos).\n",
        "    * **Imputación:** Rellenar los valores faltantes con una estimación:\n",
        "        * Para variables numéricas: la media, mediana o moda.\n",
        "        * Para variables categóricas: la moda o una nueva categoría (\"Desconocido\")."
      ],
      "metadata": {
        "id": "9RMiCzmXKW5M"
      }
    },
    {
      "cell_type": "markdown",
      "source": [
        "### Normalización y Estandarización\n",
        "\n",
        "Ambas técnicas escalan los valores de las características para que contribuyan de manera equitativa al modelo.\n",
        "\n",
        "| Técnica | Fórmula/Concepto | Rango Típico | Cuándo Usarla |\n",
        "| :--- | :--- | :--- | :--- |\n",
        "| **Normalización (Min-Max)** | Escala los datos al rango $[0, 1]$. | $[0, 1]$ | Cuando se requiere un rango específico o la distribución no es Gaussiana. |\n",
        "| **Estandarización (Z-Score)** | Transforma los datos para que tengan media ($\\mu$) = 0 y desviación estándar ($\\sigma$) = 1. | Sin límite | Cuando los datos siguen una distribución Gaussiana o se usan modelos basados en distancias (k-NN). |"
      ],
      "metadata": {
        "id": "HH8qXb56KbHA"
      }
    },
    {
      "cell_type": "markdown",
      "source": [
        "### Codificación de Variables Categóricas\n",
        "\n",
        "Los modelos de ML solo trabajan con números, por lo que las categorías textuales deben convertirse:\n",
        "\n",
        "1.  **One-Hot Encoding:**\n",
        "    * Crea una **nueva columna binaria (0 o 1)** para **cada** categoría única.\n",
        "    * **Mejor para:** Variables nominales (sin orden, ej. color: Rojo, Azul).\n",
        "    * **Riesgo:** Introduce la **Maldición de la Dimensionalidad** si hay muchas categorías.\n",
        "2.  **Label Encoding (Codificación por Etiqueta):**\n",
        "    * Asigna un número entero único a cada categoría (ej. Rojo=1, Azul=2).\n",
        "    * **Mejor para:** Variables ordinales (con orden, ej. Calidad: Baja=1, Media=2, Alta=3).\n",
        "    * **Riesgo:** El modelo puede interpretar el orden numérico como una relación de magnitud (ej. que 3 es el triple de 1), incluso si no la hay."
      ],
      "metadata": {
        "id": "oUeeOr8LKfk_"
      }
    },
    {
      "cell_type": "markdown",
      "source": [
        "### División de Datos (*Train/Test Split, Cross-Validation*)\n"
      ],
      "metadata": {
        "id": "8OBdmdBjKi3D"
      }
    },
    {
      "cell_type": "markdown",
      "source": [
        "\n",
        "#### 1. Train/Test Split\n",
        "La forma más básica de dividir los datos (típicamente 70-80% entrenamiento, 20-30% prueba).\n",
        "\n",
        "#### 2. Validación Cruzada (Cross-Validation - CV)\n",
        "Un método más robusto para evaluar el rendimiento, especialmente en datasets pequeños.\n",
        "\n",
        "* **K-Fold Cross-Validation:**\n",
        "    1.  El conjunto de entrenamiento se divide en **K** subconjuntos (folds) de igual tamaño.\n",
        "    2.  El modelo se entrena **K veces**. En cada iteración, se usa **un fold** diferente como conjunto de validación y los **K-1 folds restantes** para el entrenamiento.\n",
        "    3.  El rendimiento final es el **promedio** de las K evaluaciones.\n",
        "    * **Ventaja:** Asegura que cada punto de datos se use tanto para entrenamiento como para validación, reduciendo la varianza del error de estimación.\n"
      ],
      "metadata": {
        "id": "f8B-XYQzKmeX"
      }
    },
    {
      "cell_type": "markdown",
      "source": [
        "## 2.4 Métricas de Evaluación"
      ],
      "metadata": {
        "id": "D7HvjOTKKpd4"
      }
    },
    {
      "cell_type": "markdown",
      "source": [
        "La elección de la métrica depende del tipo de problema (clasificación o regresión) y del contexto del negocio.\n"
      ],
      "metadata": {
        "id": "O2cpp65JKrWH"
      }
    },
    {
      "cell_type": "markdown",
      "source": [
        "### Métricas de Clasificación (Basadas en la Matriz de Confusión)\n",
        "\n",
        "La **Matriz de Confusión** es una tabla que resume el rendimiento de un algoritmo de clasificación.\n",
        "\n",
        "| | Predicción Positiva | Predicción Negativa |\n",
        "| :--- | :--- | :--- |\n",
        "| **Real Positivo** | **Verdaderos Positivos (VP)** | **Falsos Negativos (FN)** |\n",
        "| **Real Negativo** | **Falsos Positivos (FP)** | **Verdaderos Negativos (VN)** |\n",
        "\n",
        "* **Exactitud (*Accuracy*):** Proporción de predicciones correctas sobre el total de casos.\n",
        " $$\\text{Accuracy} = \\frac{VP + VN}{VP + VN + FP + FN}$$\n",
        "* **Precisión (*Precision*):** De todas las instancias predichas como Positivas, ¿cuántas lo fueron realmente? (Minimizar los FP).\n",
        "    $$\\text{Precision} = \\frac{VP}{VP + FP}$$\n",
        "* **Recall (*Sensibilidad/Exhaustividad*):** De todas las instancias Positivas reales, ¿cuántas fueron identificadas correctamente? (Minimizar los FN).\n",
        "    $$\\text{Recall} = \\frac{VP}{VP + FN}$$\n",
        "* **F1-Score:** La media armónica de la Precisión y el Recall. Útil cuando se busca un equilibrio entre ambas, especialmente en datos desbalanceados.\n",
        "    $$\\text{F1-Score} = 2 \\cdot \\frac{\\text{Precision} \\cdot \\text{Recall}}{\\text{Precision} + \\text{Recall}}$$\n"
      ],
      "metadata": {
        "id": "_na-quWyKuik"
      }
    },
    {
      "cell_type": "markdown",
      "source": [
        "### Curvas ROC y AUC"
      ],
      "metadata": {
        "id": "0wpDLyBAK-Sn"
      }
    },
    {
      "cell_type": "markdown",
      "source": [
        "\n",
        "* **Curva ROC (*Receiver Operating Characteristic*):** Grafica la tasa de Verdaderos Positivos (Recall) frente a la tasa de Falsos Positivos (FP / Total Reales Negativos) en varios umbrales de clasificación.\n",
        "* **AUC (*Area Under the Curve*):** Mide el área bajo la curva ROC.\n",
        "    * **Interpretación:** Un valor de AUC $\\approx 1$ indica un clasificador excelente; $\\approx 0.5$ es un clasificador aleatorio.\n",
        "    * **Ventaja:** Permite evaluar el rendimiento independientemente del umbral de clasificación elegido."
      ],
      "metadata": {
        "id": "sJaQ8nLyLBK3"
      }
    },
    {
      "cell_type": "markdown",
      "source": [
        "### Métricas de Regresión"
      ],
      "metadata": {
        "id": "X-CTkbqLLDNb"
      }
    },
    {
      "cell_type": "markdown",
      "source": [
        "\n",
        "* **Error Cuadrático Medio (*Mean Squared Error* - MSE):** Mide el promedio de los errores al cuadrado (la diferencia entre el valor predicho y el valor real). Castiga más fuertemente los errores grandes.\n",
        "\n",
        "$$\\text{MSE} = \\frac{1}{n} \\sum_{i=1}^{n} (\\hat{y}_i - y_i)^2$$\n",
        "\n",
        "> Donde $\\hat{y}_i$ es la predicción e $y_i$ es el valor real.\n",
        "\n",
        "* **R² (*Coeficiente de Determinación*):** Indica la proporción de la varianza en la variable dependiente que es predecible a partir de la variable(s) independiente(s).\n",
        "    * **Interpretación:** Un valor entre $0$ y $1$. Un $R^2$ de $0.8$ significa que el $80\\%$ de la varianza en *y* es explicada por el modelo."
      ],
      "metadata": {
        "id": "e7W_l7ntLFOU"
      }
    },
    {
      "cell_type": "markdown",
      "source": [
        "## 2.5 Modelos Iniciales"
      ],
      "metadata": {
        "id": "7Yb_ITAOLa23"
      }
    },
    {
      "cell_type": "markdown",
      "source": [
        "Estos son los \"Hola Mundo\" del Machine Learning, fundamentales para entender la base de modelos más complejos.\n"
      ],
      "metadata": {
        "id": "5s7wnhIOLd3n"
      }
    },
    {
      "cell_type": "markdown",
      "source": [
        "### Regresión Lineal y Logística"
      ],
      "metadata": {
        "id": "d0idc7hALfmD"
      }
    },
    {
      "cell_type": "markdown",
      "source": [
        "\n",
        "#### Regresión Lineal (Lineal Regression)\n",
        "* **Tipo:** Aprendizaje Supervisado - **Regresión**.\n",
        "* **Concepto:** Encuentra la **mejor línea recta** (*línea de mejor ajuste*) que describe la relación entre las características de entrada (*x*) y la variable de salida continua (*y*).\n",
        "* **Fórmula:** $y = \\beta_0 + \\beta_1 x_1 + \\beta_2 x_2 + \\dots + \\epsilon$\n",
        "\n",
        "#### Regresión Logística (Logistic Regression)\n",
        "* **Tipo:** Aprendizaje Supervisado - **Clasificación**.\n",
        "* **Concepto:** Aunque se llama \"regresión,\" es un algoritmo de clasificación binaria que utiliza una **función logística (Sigmoide)** para *transformar* la salida lineal en una **probabilidad** entre $0$ y $1$.\n",
        "* **Decisión:** Si la probabilidad es $> 0.5$, clasifica como 1 (Positivo); si es $< 0.5$, clasifica como 0 (Negativo)."
      ],
      "metadata": {
        "id": "ObqxKcr3Lh14"
      }
    },
    {
      "cell_type": "markdown",
      "source": [
        "### k-Vecinos Más Cercanos (k-Nearest Neighbors - k-NN)"
      ],
      "metadata": {
        "id": "Wffs1MLxLkbv"
      }
    },
    {
      "cell_type": "markdown",
      "source": [
        "\n",
        "* **Tipo:** Aprendizaje Supervisado - **Clasificación o Regresión**.\n",
        "* **Concepto:** Es un algoritmo de **\"Aprendizaje Perezoso\"** (*Lazy Learning*) porque no entrena un modelo explícito, sino que *memoriza* el conjunto de entrenamiento.\n",
        "* **Mecánica:**\n",
        "    1.  Para clasificar un nuevo punto, calcula su **distancia** (ej. euclidiana) a todos los puntos del conjunto de entrenamiento.\n",
        "    2.  Identifica los **k** puntos de datos más cercanos (*vecinos*).\n",
        "    3.  **Clasificación:** Asigna la etiqueta que es la **mayoría** entre los $k$ vecinos.\n",
        "    4.  **Regresión:** Asigna el **promedio** de los valores de los $k$ vecinos.\n",
        "* **Parámetro clave:** El valor de **k**."
      ],
      "metadata": {
        "id": "690BCzqjLmbT"
      }
    },
    {
      "cell_type": "markdown",
      "source": [
        "### Naïve Bayes (Clasificador Bayesiano Ingenuo)"
      ],
      "metadata": {
        "id": "lur2n090LoJz"
      }
    },
    {
      "cell_type": "markdown",
      "source": [
        "\n",
        "* **Tipo:** Aprendizaje Supervisado - **Clasificación**.\n",
        "* **Concepto:** Se basa en el **Teorema de Bayes** y asume una **\"ingenuidad\"** (de ahí su nombre): que **todas las características son independientes** entre sí.\n",
        "* **Utilidad:** A pesar de su simplificación, es muy efectivo, rápido y popular para problemas de clasificación de texto (ej. filtro de *spam*).\n",
        "* **Fórmula (Teorema de Bayes):**\n",
        "    $$P(A|B) = \\frac{P(B|A) \\cdot P(A)}{P(B)}$$\n",
        "    * $P(A|B)$: Probabilidad de la clase *A* dado el evento *B* (la predicción)."
      ],
      "metadata": {
        "id": "iogUU-feLqSX"
      }
    }
  ]
}